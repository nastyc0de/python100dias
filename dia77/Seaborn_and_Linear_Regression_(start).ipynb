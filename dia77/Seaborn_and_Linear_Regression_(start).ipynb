{
  "nbformat": 4,
  "nbformat_minor": 2,
  "metadata": {
    "colab": {
      "name": "Seaborn and Linear Regression (start).ipynb",
      "provenance": []
    },
    "kernelspec": {
      "name": "python3",
      "display_name": "Python 3.9.5 64-bit"
    },
    "language_info": {
      "name": "python",
      "version": "3.9.5",
      "mimetype": "text/x-python",
      "codemirror_mode": {
        "name": "ipython",
        "version": 3
      },
      "pygments_lexer": "ipython3",
      "nbconvert_exporter": "python",
      "file_extension": ".py"
    },
    "interpreter": {
      "hash": "9330ed78894e3435a2e4ffed6de6ed9ef79027b66413815be6fe611370d7b2c0"
    }
  },
  "cells": [
    {
      "cell_type": "markdown",
      "source": [
        "# Introduction\n",
        "\n",
        "Do higher film budgets lead to more box office revenue? Let's find out if there's a relationship using the movie budgets and financial performance data that I've scraped from [the-numbers.com](https://www.the-numbers.com/movie/budgets) on **May 1st, 2018**. \n",
        "\n",
        "<img src=https://i.imgur.com/kq7hrEh.png>"
      ],
      "metadata": {
        "id": "gltiGJhvrzaL"
      }
    },
    {
      "cell_type": "markdown",
      "source": [
        "# Import Statements"
      ],
      "metadata": {
        "id": "zkLrvlKvtdih"
      }
    },
    {
      "cell_type": "code",
      "execution_count": 1,
      "source": [
        "import pandas as pd\r\n",
        "import matplotlib.pyplot as plt\r\n"
      ],
      "outputs": [],
      "metadata": {
        "id": "NpDk_q_Urroj"
      }
    },
    {
      "cell_type": "markdown",
      "source": [
        "# Notebook Presentation"
      ],
      "metadata": {
        "id": "x5B-UDvXtnC6"
      }
    },
    {
      "cell_type": "code",
      "execution_count": 2,
      "source": [
        "pd.options.display.float_format = '{:,.2f}'.format\r\n",
        "\r\n",
        "from pandas.plotting import register_matplotlib_converters\r\n",
        "register_matplotlib_converters()"
      ],
      "outputs": [],
      "metadata": {
        "id": "nM_otvWztjpT"
      }
    },
    {
      "cell_type": "markdown",
      "source": [
        "# Read the Data"
      ],
      "metadata": {
        "id": "v-fnwNYJtthe"
      }
    },
    {
      "cell_type": "code",
      "execution_count": 3,
      "source": [
        "data = pd.read_csv('cost_revenue_dirty.csv')"
      ],
      "outputs": [],
      "metadata": {
        "id": "xhwvQQWitrf4"
      }
    },
    {
      "cell_type": "markdown",
      "source": [
        "# Explore and Clean the Data"
      ],
      "metadata": {
        "id": "tbg8_J5SuHhs"
      }
    },
    {
      "cell_type": "markdown",
      "source": [
        "**Challenge**: Answer these questions about the dataset:\n",
        "1. How many rows and columns does the dataset contain?\n",
        "2. Are there any NaN values present?\n",
        "3. Are there any duplicate rows?\n",
        "4. What are the data types of the columns?"
      ],
      "metadata": {
        "id": "xAtdcURCuL0Z"
      }
    },
    {
      "cell_type": "code",
      "execution_count": 4,
      "source": [
        "print(f'rows and columns: {data.shape}')\r\n",
        "print(f'Nan values: {data.isna().values.any()}')\r\n",
        "print(f'Duplicate values: {data.duplicated().values.any()}')\r\n",
        "duplicated_rows = data[data.duplicated()]\r\n",
        "print(f'How many duplicated values exist: {len(duplicated_rows)}')\r\n",
        "print('Data Type of the  columns')\r\n",
        "data.info()"
      ],
      "outputs": [
        {
          "output_type": "stream",
          "name": "stdout",
          "text": [
            "rows and columns: (5391, 6)\n",
            "Nan values: False\n",
            "Duplicate values: False\n",
            "How many duplicated values exist: 0\n",
            "Data Type of the  columns\n",
            "<class 'pandas.core.frame.DataFrame'>\n",
            "RangeIndex: 5391 entries, 0 to 5390\n",
            "Data columns (total 6 columns):\n",
            " #   Column                 Non-Null Count  Dtype \n",
            "---  ------                 --------------  ----- \n",
            " 0   Rank                   5391 non-null   int64 \n",
            " 1   Release_Date           5391 non-null   object\n",
            " 2   Movie_Title            5391 non-null   object\n",
            " 3   USD_Production_Budget  5391 non-null   object\n",
            " 4   USD_Worldwide_Gross    5391 non-null   object\n",
            " 5   USD_Domestic_Gross     5391 non-null   object\n",
            "dtypes: int64(1), object(5)\n",
            "memory usage: 252.8+ KB\n"
          ]
        }
      ],
      "metadata": {
        "id": "PV3KLBSVTMDN"
      }
    },
    {
      "cell_type": "markdown",
      "source": [
        "### Data Type Conversions"
      ],
      "metadata": {
        "id": "v8spadDNvpVG"
      }
    },
    {
      "cell_type": "markdown",
      "source": [
        "**Challenge**: Convert the `USD_Production_Budget`, `USD_Worldwide_Gross`, and `USD_Domestic_Gross` columns to a numeric format by removing `$` signs and `,`. \n",
        "<br>\n",
        "<br>\n",
        "Note that *domestic* in this context refers to the United States."
      ],
      "metadata": {
        "id": "9F8KFST4ulrd"
      }
    },
    {
      "cell_type": "code",
      "execution_count": 5,
      "source": [
        "chars_to_remove = [',', '$']\r\n",
        "col_clean = ['USD_Production_Budget', 'USD_Worldwide_Gross', 'USD_Domestic_Gross']\r\n",
        "\r\n",
        "for col in col_clean:\r\n",
        "    for char in chars_to_remove:\r\n",
        "        # replace each character with a empty string\r\n",
        "        data[col] = data[col].astype(str).str.replace(char, \"\")\r\n",
        "    # convert column to a numeric data type\r\n",
        "    data[col] = pd.to_numeric(data[col])"
      ],
      "outputs": [
        {
          "output_type": "stream",
          "name": "stderr",
          "text": [
            "C:\\Users\\plagu\\AppData\\Local\\Temp/ipykernel_6844/1569992997.py:7: FutureWarning: The default value of regex will change from True to False in a future version. In addition, single character regular expressions will *not* be treated as literal strings when regex=True.\n",
            "  data[col] = data[col].astype(str).str.replace(char, \"\")\n"
          ]
        }
      ],
      "metadata": {
        "id": "BmdCbLf-TPXk"
      }
    },
    {
      "cell_type": "code",
      "execution_count": 6,
      "source": [
        "data.head(1)"
      ],
      "outputs": [
        {
          "output_type": "execute_result",
          "data": {
            "text/plain": [
              "   Rank Release_Date            Movie_Title  USD_Production_Budget  \\\n",
              "0  5293     8/2/1915  The Birth of a Nation                 110000   \n",
              "\n",
              "   USD_Worldwide_Gross  USD_Domestic_Gross  \n",
              "0             11000000            10000000  "
            ],
            "text/html": [
              "<div>\n",
              "<style scoped>\n",
              "    .dataframe tbody tr th:only-of-type {\n",
              "        vertical-align: middle;\n",
              "    }\n",
              "\n",
              "    .dataframe tbody tr th {\n",
              "        vertical-align: top;\n",
              "    }\n",
              "\n",
              "    .dataframe thead th {\n",
              "        text-align: right;\n",
              "    }\n",
              "</style>\n",
              "<table border=\"1\" class=\"dataframe\">\n",
              "  <thead>\n",
              "    <tr style=\"text-align: right;\">\n",
              "      <th></th>\n",
              "      <th>Rank</th>\n",
              "      <th>Release_Date</th>\n",
              "      <th>Movie_Title</th>\n",
              "      <th>USD_Production_Budget</th>\n",
              "      <th>USD_Worldwide_Gross</th>\n",
              "      <th>USD_Domestic_Gross</th>\n",
              "    </tr>\n",
              "  </thead>\n",
              "  <tbody>\n",
              "    <tr>\n",
              "      <th>0</th>\n",
              "      <td>5293</td>\n",
              "      <td>8/2/1915</td>\n",
              "      <td>The Birth of a Nation</td>\n",
              "      <td>110000</td>\n",
              "      <td>11000000</td>\n",
              "      <td>10000000</td>\n",
              "    </tr>\n",
              "  </tbody>\n",
              "</table>\n",
              "</div>"
            ]
          },
          "metadata": {},
          "execution_count": 6
        }
      ],
      "metadata": {}
    },
    {
      "cell_type": "markdown",
      "source": [
        "**Challenge**: Convert the `Release_Date` column to a Pandas Datetime type. "
      ],
      "metadata": {
        "id": "cA01iJHkvWhl"
      }
    },
    {
      "cell_type": "code",
      "execution_count": 7,
      "source": [
        "data.Release_Date = pd.to_datetime(data.Release_Date)\r\n",
        "data.head()"
      ],
      "outputs": [
        {
          "output_type": "execute_result",
          "data": {
            "text/plain": [
              "   Rank Release_Date                     Movie_Title  USD_Production_Budget  \\\n",
              "0  5293   1915-08-02           The Birth of a Nation                 110000   \n",
              "1  5140   1916-05-09                     Intolerance                 385907   \n",
              "2  5230   1916-12-24    20,000 Leagues Under the Sea                 200000   \n",
              "3  5299   1920-09-17  Over the Hill to the Poorhouse                 100000   \n",
              "4  5222   1925-01-01                  The Big Parade                 245000   \n",
              "\n",
              "   USD_Worldwide_Gross  USD_Domestic_Gross  \n",
              "0             11000000            10000000  \n",
              "1                    0                   0  \n",
              "2              8000000             8000000  \n",
              "3              3000000             3000000  \n",
              "4             22000000            11000000  "
            ],
            "text/html": [
              "<div>\n",
              "<style scoped>\n",
              "    .dataframe tbody tr th:only-of-type {\n",
              "        vertical-align: middle;\n",
              "    }\n",
              "\n",
              "    .dataframe tbody tr th {\n",
              "        vertical-align: top;\n",
              "    }\n",
              "\n",
              "    .dataframe thead th {\n",
              "        text-align: right;\n",
              "    }\n",
              "</style>\n",
              "<table border=\"1\" class=\"dataframe\">\n",
              "  <thead>\n",
              "    <tr style=\"text-align: right;\">\n",
              "      <th></th>\n",
              "      <th>Rank</th>\n",
              "      <th>Release_Date</th>\n",
              "      <th>Movie_Title</th>\n",
              "      <th>USD_Production_Budget</th>\n",
              "      <th>USD_Worldwide_Gross</th>\n",
              "      <th>USD_Domestic_Gross</th>\n",
              "    </tr>\n",
              "  </thead>\n",
              "  <tbody>\n",
              "    <tr>\n",
              "      <th>0</th>\n",
              "      <td>5293</td>\n",
              "      <td>1915-08-02</td>\n",
              "      <td>The Birth of a Nation</td>\n",
              "      <td>110000</td>\n",
              "      <td>11000000</td>\n",
              "      <td>10000000</td>\n",
              "    </tr>\n",
              "    <tr>\n",
              "      <th>1</th>\n",
              "      <td>5140</td>\n",
              "      <td>1916-05-09</td>\n",
              "      <td>Intolerance</td>\n",
              "      <td>385907</td>\n",
              "      <td>0</td>\n",
              "      <td>0</td>\n",
              "    </tr>\n",
              "    <tr>\n",
              "      <th>2</th>\n",
              "      <td>5230</td>\n",
              "      <td>1916-12-24</td>\n",
              "      <td>20,000 Leagues Under the Sea</td>\n",
              "      <td>200000</td>\n",
              "      <td>8000000</td>\n",
              "      <td>8000000</td>\n",
              "    </tr>\n",
              "    <tr>\n",
              "      <th>3</th>\n",
              "      <td>5299</td>\n",
              "      <td>1920-09-17</td>\n",
              "      <td>Over the Hill to the Poorhouse</td>\n",
              "      <td>100000</td>\n",
              "      <td>3000000</td>\n",
              "      <td>3000000</td>\n",
              "    </tr>\n",
              "    <tr>\n",
              "      <th>4</th>\n",
              "      <td>5222</td>\n",
              "      <td>1925-01-01</td>\n",
              "      <td>The Big Parade</td>\n",
              "      <td>245000</td>\n",
              "      <td>22000000</td>\n",
              "      <td>11000000</td>\n",
              "    </tr>\n",
              "  </tbody>\n",
              "</table>\n",
              "</div>"
            ]
          },
          "metadata": {},
          "execution_count": 7
        }
      ],
      "metadata": {
        "id": "Pq1WfvRnTRU6"
      }
    },
    {
      "cell_type": "markdown",
      "source": [
        "### Descriptive Statistics"
      ],
      "metadata": {
        "id": "NkwmJO3tvt5i"
      }
    },
    {
      "cell_type": "markdown",
      "source": [
        "**Challenge**: \n",
        "\n",
        "1. What is the average production budget of the films in the data set?\n",
        "2. What is the average worldwide gross revenue of films?\n",
        "3. What were the minimums for worldwide and domestic revenue?\n",
        "4. Are the bottom 25% of films actually profitable or do they lose money?\n",
        "5. What are the highest production budget and highest worldwide gross revenue of any film?\n",
        "6. How much revenue did the lowest and highest budget films make?"
      ],
      "metadata": {
        "id": "bnb54thrvx5r"
      }
    },
    {
      "cell_type": "code",
      "execution_count": 12,
      "source": [
        "data.describe()"
      ],
      "outputs": [
        {
          "output_type": "execute_result",
          "data": {
            "text/plain": [
              "          Rank  USD_Production_Budget  USD_Worldwide_Gross  USD_Domestic_Gross\n",
              "count 5,391.00               5,391.00             5,391.00            5,391.00\n",
              "mean  2,696.00          31,113,737.58        88,855,421.96       41,235,519.44\n",
              "std   1,556.39          40,523,796.88       168,457,757.00       66,029,346.27\n",
              "min       1.00               1,100.00                 0.00                0.00\n",
              "25%   1,348.50           5,000,000.00         3,865,206.00        1,330,901.50\n",
              "50%   2,696.00          17,000,000.00        27,450,453.00       17,192,205.00\n",
              "75%   4,043.50          40,000,000.00        96,454,455.00       52,343,687.00\n",
              "max   5,391.00         425,000,000.00     2,783,918,982.00      936,662,225.00"
            ],
            "text/html": [
              "<div>\n",
              "<style scoped>\n",
              "    .dataframe tbody tr th:only-of-type {\n",
              "        vertical-align: middle;\n",
              "    }\n",
              "\n",
              "    .dataframe tbody tr th {\n",
              "        vertical-align: top;\n",
              "    }\n",
              "\n",
              "    .dataframe thead th {\n",
              "        text-align: right;\n",
              "    }\n",
              "</style>\n",
              "<table border=\"1\" class=\"dataframe\">\n",
              "  <thead>\n",
              "    <tr style=\"text-align: right;\">\n",
              "      <th></th>\n",
              "      <th>Rank</th>\n",
              "      <th>USD_Production_Budget</th>\n",
              "      <th>USD_Worldwide_Gross</th>\n",
              "      <th>USD_Domestic_Gross</th>\n",
              "    </tr>\n",
              "  </thead>\n",
              "  <tbody>\n",
              "    <tr>\n",
              "      <th>count</th>\n",
              "      <td>5,391.00</td>\n",
              "      <td>5,391.00</td>\n",
              "      <td>5,391.00</td>\n",
              "      <td>5,391.00</td>\n",
              "    </tr>\n",
              "    <tr>\n",
              "      <th>mean</th>\n",
              "      <td>2,696.00</td>\n",
              "      <td>31,113,737.58</td>\n",
              "      <td>88,855,421.96</td>\n",
              "      <td>41,235,519.44</td>\n",
              "    </tr>\n",
              "    <tr>\n",
              "      <th>std</th>\n",
              "      <td>1,556.39</td>\n",
              "      <td>40,523,796.88</td>\n",
              "      <td>168,457,757.00</td>\n",
              "      <td>66,029,346.27</td>\n",
              "    </tr>\n",
              "    <tr>\n",
              "      <th>min</th>\n",
              "      <td>1.00</td>\n",
              "      <td>1,100.00</td>\n",
              "      <td>0.00</td>\n",
              "      <td>0.00</td>\n",
              "    </tr>\n",
              "    <tr>\n",
              "      <th>25%</th>\n",
              "      <td>1,348.50</td>\n",
              "      <td>5,000,000.00</td>\n",
              "      <td>3,865,206.00</td>\n",
              "      <td>1,330,901.50</td>\n",
              "    </tr>\n",
              "    <tr>\n",
              "      <th>50%</th>\n",
              "      <td>2,696.00</td>\n",
              "      <td>17,000,000.00</td>\n",
              "      <td>27,450,453.00</td>\n",
              "      <td>17,192,205.00</td>\n",
              "    </tr>\n",
              "    <tr>\n",
              "      <th>75%</th>\n",
              "      <td>4,043.50</td>\n",
              "      <td>40,000,000.00</td>\n",
              "      <td>96,454,455.00</td>\n",
              "      <td>52,343,687.00</td>\n",
              "    </tr>\n",
              "    <tr>\n",
              "      <th>max</th>\n",
              "      <td>5,391.00</td>\n",
              "      <td>425,000,000.00</td>\n",
              "      <td>2,783,918,982.00</td>\n",
              "      <td>936,662,225.00</td>\n",
              "    </tr>\n",
              "  </tbody>\n",
              "</table>\n",
              "</div>"
            ]
          },
          "metadata": {},
          "execution_count": 12
        }
      ],
      "metadata": {
        "id": "8G5_FATFTTtb"
      }
    },
    {
      "cell_type": "markdown",
      "source": [
        "# Investigating the Zero Revenue Films"
      ],
      "metadata": {
        "id": "Cj-ug32JyEhp"
      }
    },
    {
      "cell_type": "markdown",
      "source": [
        "**Challenge** How many films grossed $0 domestically (i.e., in the United States)? What were the highest budget films that grossed nothing?"
      ],
      "metadata": {
        "id": "U9hm-pb4xTjY"
      }
    },
    {
      "cell_type": "code",
      "execution_count": 19,
      "source": [
        "zero_domestic = data[data['USD_Domestic_Gross'] == 0]\r\n",
        "print(f'Number of films that grossed $0 are: {len(zero_domestic)}')"
      ],
      "outputs": [
        {
          "output_type": "stream",
          "name": "stdout",
          "text": [
            "Number of films that grossed $0 are: 512\n"
          ]
        }
      ],
      "metadata": {
        "id": "MXuRYdy0TWkt"
      }
    },
    {
      "cell_type": "markdown",
      "source": [
        "**Challenge**: How many films grossed $0 worldwide? What are the highest budget films that had no revenue internationally?"
      ],
      "metadata": {
        "id": "mY8SAwI0x73b"
      }
    },
    {
      "cell_type": "code",
      "execution_count": 21,
      "source": [
        "zero_global = data[data.USD_Worldwide_Gross == 0]\r\n",
        "print(f'Number of films that grossed $0 worldwide are: {len(zero_global)}')\r\n",
        "\r\n",
        "print(data[data.USD_Production_Budget == data.USD_Production_Budget.max()])"
      ],
      "outputs": [
        {
          "output_type": "stream",
          "name": "stdout",
          "text": [
            "Number of films that grossed $0 worldwide are: 357\n",
            "      Rank Release_Date Movie_Title  USD_Production_Budget  \\\n",
            "3529     1   2009-12-18      Avatar              425000000   \n",
            "\n",
            "      USD_Worldwide_Gross  USD_Domestic_Gross  \n",
            "3529           2783918982           760507625  \n"
          ]
        }
      ],
      "metadata": {
        "id": "VpfocexxTXym"
      }
    },
    {
      "cell_type": "markdown",
      "source": [
        "### Filtering on Multiple Conditions"
      ],
      "metadata": {
        "id": "eXUDzWpeyV2f"
      }
    },
    {
      "cell_type": "code",
      "execution_count": 24,
      "source": [
        "international_releases = data.loc[(data.USD_Domestic_Gross == 0) & (data.USD_Worldwide_Gross !=0)]\r\n",
        "print(f'Number of releases: {len(international_releases)}')\r\n",
        "international_releases.head(5)"
      ],
      "outputs": [
        {
          "output_type": "stream",
          "name": "stdout",
          "text": [
            "Number of releases: 155\n"
          ]
        },
        {
          "output_type": "execute_result",
          "data": {
            "text/plain": [
              "      Rank Release_Date              Movie_Title  USD_Production_Budget  \\\n",
              "71    4310   1956-02-16                 Carousel                3380000   \n",
              "1579  5087   2001-02-11  Everything Put Together                 500000   \n",
              "1744  3695   2001-12-31                 The Hole                7500000   \n",
              "2155  4236   2003-12-31                  Nothing                4000000   \n",
              "2203  2513   2004-03-31                The Touch               20000000   \n",
              "\n",
              "      USD_Worldwide_Gross  USD_Domestic_Gross  \n",
              "71                   3220                   0  \n",
              "1579                 7890                   0  \n",
              "1744             10834406                   0  \n",
              "2155                63180                   0  \n",
              "2203              5918742                   0  "
            ],
            "text/html": [
              "<div>\n",
              "<style scoped>\n",
              "    .dataframe tbody tr th:only-of-type {\n",
              "        vertical-align: middle;\n",
              "    }\n",
              "\n",
              "    .dataframe tbody tr th {\n",
              "        vertical-align: top;\n",
              "    }\n",
              "\n",
              "    .dataframe thead th {\n",
              "        text-align: right;\n",
              "    }\n",
              "</style>\n",
              "<table border=\"1\" class=\"dataframe\">\n",
              "  <thead>\n",
              "    <tr style=\"text-align: right;\">\n",
              "      <th></th>\n",
              "      <th>Rank</th>\n",
              "      <th>Release_Date</th>\n",
              "      <th>Movie_Title</th>\n",
              "      <th>USD_Production_Budget</th>\n",
              "      <th>USD_Worldwide_Gross</th>\n",
              "      <th>USD_Domestic_Gross</th>\n",
              "    </tr>\n",
              "  </thead>\n",
              "  <tbody>\n",
              "    <tr>\n",
              "      <th>71</th>\n",
              "      <td>4310</td>\n",
              "      <td>1956-02-16</td>\n",
              "      <td>Carousel</td>\n",
              "      <td>3380000</td>\n",
              "      <td>3220</td>\n",
              "      <td>0</td>\n",
              "    </tr>\n",
              "    <tr>\n",
              "      <th>1579</th>\n",
              "      <td>5087</td>\n",
              "      <td>2001-02-11</td>\n",
              "      <td>Everything Put Together</td>\n",
              "      <td>500000</td>\n",
              "      <td>7890</td>\n",
              "      <td>0</td>\n",
              "    </tr>\n",
              "    <tr>\n",
              "      <th>1744</th>\n",
              "      <td>3695</td>\n",
              "      <td>2001-12-31</td>\n",
              "      <td>The Hole</td>\n",
              "      <td>7500000</td>\n",
              "      <td>10834406</td>\n",
              "      <td>0</td>\n",
              "    </tr>\n",
              "    <tr>\n",
              "      <th>2155</th>\n",
              "      <td>4236</td>\n",
              "      <td>2003-12-31</td>\n",
              "      <td>Nothing</td>\n",
              "      <td>4000000</td>\n",
              "      <td>63180</td>\n",
              "      <td>0</td>\n",
              "    </tr>\n",
              "    <tr>\n",
              "      <th>2203</th>\n",
              "      <td>2513</td>\n",
              "      <td>2004-03-31</td>\n",
              "      <td>The Touch</td>\n",
              "      <td>20000000</td>\n",
              "      <td>5918742</td>\n",
              "      <td>0</td>\n",
              "    </tr>\n",
              "  </tbody>\n",
              "</table>\n",
              "</div>"
            ]
          },
          "metadata": {},
          "execution_count": 24
        }
      ],
      "metadata": {
        "id": "dLd3eeD9TZZ9"
      }
    },
    {
      "cell_type": "markdown",
      "source": [
        "**Challenge**: Use the [`.query()` function](https://pandas.pydata.org/pandas-docs/stable/reference/api/pandas.DataFrame.query.html) to accomplish the same thing. Create a subset for international releases that had some worldwide gross revenue, but made zero revenue in the United States. \n",
        "\n",
        "Hint: This time you'll have to use the `and` keyword."
      ],
      "metadata": {
        "id": "YruPjqLVPuiB"
      }
    },
    {
      "cell_type": "code",
      "execution_count": 31,
      "source": [
        "releases = data.query('USD_Domestic_Gross == 0 and USD_Worldwide_Gross != 0')\r\n",
        "print(f'number of releases:{len(releases)}')"
      ],
      "outputs": [
        {
          "output_type": "stream",
          "name": "stdout",
          "text": [
            "number of releases:155\n"
          ]
        }
      ],
      "metadata": {
        "id": "Xvu-jTCwTavg"
      }
    },
    {
      "cell_type": "markdown",
      "source": [
        "### Unreleased Films\n",
        "\n",
        "**Challenge**:\n",
        "* Identify which films were not released yet as of the time of data collection (May 1st, 2018).\n",
        "* How many films are included in the dataset that have not yet had a chance to be screened in the box office? \n",
        "* Create another DataFrame called data_clean that does not include these films. "
      ],
      "metadata": {
        "id": "EM-FTE4OZhfr"
      }
    },
    {
      "cell_type": "code",
      "execution_count": 8,
      "source": [
        "# Date of Data Collection\r\n",
        "scrape_date = pd.Timestamp('2018-5-1')"
      ],
      "outputs": [],
      "metadata": {
        "id": "PIukYVY9Zpxu"
      }
    },
    {
      "cell_type": "code",
      "execution_count": 41,
      "source": [
        "future_releases = data[data.Release_Date >= scrape_date]\r\n",
        "print(f'The future releases are: {len(future_releases)}')\r\n",
        "data_clean = data.drop(future_releases.index)"
      ],
      "outputs": [
        {
          "output_type": "stream",
          "name": "stdout",
          "text": [
            "The future releases are: 7\n"
          ]
        }
      ],
      "metadata": {
        "id": "OAI0VsM3Tc6v"
      }
    },
    {
      "cell_type": "markdown",
      "source": [
        "### Films that Lost Money\n",
        "\n",
        "**Challenge**: \n",
        "What is the percentage of films where the production costs exceeded the worldwide gross revenue? "
      ],
      "metadata": {
        "id": "khrJcXlGZWZO"
      }
    },
    {
      "cell_type": "code",
      "execution_count": 43,
      "source": [
        "\r\n",
        "lost_money = data_clean[data_clean.USD_Production_Budget > data_clean.USD_Worldwide_Gross]\r\n",
        "print(f'The movies that lose money are: {len(lost_money)}')\r\n",
        "print(len(lost_money)/len(data_clean)*100)"
      ],
      "outputs": [
        {
          "output_type": "stream",
          "name": "stdout",
          "text": [
            "The movies that lose money are: 2007\n",
            "37.27711738484398\n"
          ]
        }
      ],
      "metadata": {
        "id": "7uW_U9StTgvZ"
      }
    },
    {
      "cell_type": "code",
      "execution_count": 44,
      "source": [
        "losing = data_clean.loc[data_clean.USD_Production_Budget > data_clean.USD_Worldwide_Gross]\r\n",
        "print(f'The movies that lose money are: {len(losing)}')\r\n",
        "print(len(losing)/len(data_clean)*100)"
      ],
      "outputs": [
        {
          "output_type": "stream",
          "name": "stdout",
          "text": [
            "The movies that lose money are: 2007\n",
            "37.27711738484398\n"
          ]
        }
      ],
      "metadata": {}
    },
    {
      "cell_type": "markdown",
      "source": [
        "# Seaborn for Data Viz: Bubble Charts"
      ],
      "metadata": {
        "id": "cfJUL3WwyiDy"
      }
    },
    {
      "cell_type": "code",
      "execution_count": null,
      "source": [],
      "outputs": [],
      "metadata": {
        "id": "YXa3bp1uTiSS"
      }
    },
    {
      "cell_type": "markdown",
      "source": [
        "### Plotting Movie Releases over Time\n",
        "\n",
        "**Challenge**: Try to create the following Bubble Chart:\n",
        "\n",
        "<img src=https://i.imgur.com/8fUn9T6.png>\n",
        "\n"
      ],
      "metadata": {
        "id": "e7NIOiL2y3en"
      }
    },
    {
      "cell_type": "code",
      "execution_count": null,
      "source": [],
      "outputs": [],
      "metadata": {
        "id": "OT0D-i3HTmsB"
      }
    },
    {
      "cell_type": "markdown",
      "source": [
        "# Converting Years to Decades Trick\n",
        "\n",
        "**Challenge**: Create a column in `data_clean` that has the decade of the release. \n",
        "\n",
        "<img src=https://i.imgur.com/0VEfagw.png width=650> \n",
        "\n",
        "Here's how: \n",
        "1. Create a [`DatetimeIndex` object](https://pandas.pydata.org/pandas-docs/stable/reference/api/pandas.DatetimeIndex.html) from the Release_Date column. \n",
        "2. Grab all the years from the `DatetimeIndex` object using the `.year` property.\n",
        "<img src=https://i.imgur.com/5m06Ach.png width=650>\n",
        "3. Use floor division `//` to convert the year data to the decades of the films.\n",
        "4. Add the decades as a `Decade` column to the `data_clean` DataFrame."
      ],
      "metadata": {
        "id": "r_2hFz9py84b"
      }
    },
    {
      "cell_type": "code",
      "execution_count": null,
      "source": [],
      "outputs": [],
      "metadata": {
        "id": "lak08IPMTn-j"
      }
    },
    {
      "cell_type": "markdown",
      "source": [
        "### Separate the \"old\" (before 1969) and \"New\" (1970s onwards) Films\n",
        "\n",
        "**Challenge**: Create two new DataFrames: `old_films` and `new_films`\n",
        "* `old_films` should include all the films before 1969 (up to and including 1969)\n",
        "* `new_films` should include all the films from 1970 onwards\n",
        "* How many films were released prior to 1970?\n",
        "* What was the most expensive film made prior to 1970?"
      ],
      "metadata": {
        "id": "q-X7NK_9zIz9"
      }
    },
    {
      "cell_type": "code",
      "execution_count": null,
      "source": [],
      "outputs": [],
      "metadata": {
        "id": "qe93nMcBTqQz"
      }
    },
    {
      "cell_type": "markdown",
      "source": [
        "# Seaborn Regression Plots"
      ],
      "metadata": {
        "id": "msXABzF3zW7e"
      }
    },
    {
      "cell_type": "code",
      "execution_count": null,
      "source": [],
      "outputs": [],
      "metadata": {
        "id": "2ajPcWMJTsom"
      }
    },
    {
      "cell_type": "markdown",
      "source": [
        "**Challenge**: Use Seaborn's `.regplot()` to show the scatter plot and linear regression line against the `new_films`. \n",
        "<br>\n",
        "<br>\n",
        "Style the chart\n",
        "\n",
        "* Put the chart on a `'darkgrid'`.\n",
        "* Set limits on the axes so that they don't show negative values.\n",
        "* Label the axes on the plot \"Revenue in \\$ billions\" and \"Budget in \\$ millions\".\n",
        "* Provide HEX colour codes for the plot and the regression line. Make the dots dark blue (#2f4b7c) and the line orange (#ff7c43).\n",
        "\n",
        "Interpret the chart\n",
        "\n",
        "* Do our data points for the new films align better or worse with the linear regression than for our older films?\n",
        "* Roughly how much would a film with a budget of $150 million make according to the regression line?"
      ],
      "metadata": {
        "id": "6k4MeLmxWFwX"
      }
    },
    {
      "cell_type": "code",
      "execution_count": null,
      "source": [],
      "outputs": [],
      "metadata": {
        "id": "6cOVsxqvTui2"
      }
    },
    {
      "cell_type": "markdown",
      "source": [
        "# Run Your Own Regression with scikit-learn\n",
        "\n",
        "$$ REV \\hat ENUE = \\theta _0 + \\theta _1 BUDGET$$"
      ],
      "metadata": {
        "id": "Q1SUPPMAzlVK"
      }
    },
    {
      "cell_type": "code",
      "execution_count": null,
      "source": [],
      "outputs": [],
      "metadata": {
        "id": "QmX-wMMLTwBW"
      }
    },
    {
      "cell_type": "markdown",
      "source": [
        "**Challenge**: Run a linear regression for the `old_films`. Calculate the intercept, slope and r-squared. How much of the variance in movie revenue does the linear model explain in this case?"
      ],
      "metadata": {
        "id": "o23E9iT1RHQ1"
      }
    },
    {
      "cell_type": "code",
      "execution_count": null,
      "source": [],
      "outputs": [],
      "metadata": {
        "id": "Sd43DJNDT0yQ"
      }
    },
    {
      "cell_type": "code",
      "execution_count": null,
      "source": [],
      "outputs": [],
      "metadata": {
        "id": "ygKsLBx5Rs7t"
      }
    },
    {
      "cell_type": "markdown",
      "source": [
        "# Use Your Model to Make a Prediction\n",
        "\n",
        "We just estimated the slope and intercept! Remember that our Linear Model has the following form:\n",
        "\n",
        "$$ REV \\hat ENUE = \\theta _0 + \\theta _1 BUDGET$$\n",
        "\n",
        "**Challenge**:  How much global revenue does our model estimate for a film with a budget of $350 million? "
      ],
      "metadata": {
        "id": "hoD3PeG75p78"
      }
    },
    {
      "cell_type": "code",
      "execution_count": null,
      "source": [],
      "outputs": [],
      "metadata": {
        "id": "fX4I4h5i5rgF"
      }
    },
    {
      "cell_type": "code",
      "execution_count": null,
      "source": [],
      "outputs": [],
      "metadata": {
        "id": "fB2Yp8ln5qfO"
      }
    }
  ]
}