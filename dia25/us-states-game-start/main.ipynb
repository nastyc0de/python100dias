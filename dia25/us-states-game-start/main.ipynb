{
 "metadata": {
  "language_info": {
   "codemirror_mode": {
    "name": "ipython",
    "version": 3
   },
   "file_extension": ".py",
   "mimetype": "text/x-python",
   "name": "python",
   "nbconvert_exporter": "python",
   "pygments_lexer": "ipython3",
   "version": "3.9.5"
  },
  "orig_nbformat": 2,
  "kernelspec": {
   "name": "python395jvsc74a57bd0aee8b7b246df8f9039afb4144a1f6fd8d2ca17a180786b69acc140d282b71a49",
   "display_name": "Python 3.9.5 64-bit"
  },
  "metadata": {
   "interpreter": {
    "hash": "aee8b7b246df8f9039afb4144a1f6fd8d2ca17a180786b69acc140d282b71a49"
   }
  }
 },
 "nbformat": 4,
 "nbformat_minor": 2,
 "cells": [
  {
   "cell_type": "code",
   "execution_count": 36,
   "metadata": {},
   "outputs": [
    {
     "output_type": "execute_result",
     "data": {
      "text/plain": [
       "             state    x    y\n",
       "0          Alabama  139  -77\n",
       "1           Alaska -204 -170\n",
       "2          Arizona -203  -40\n",
       "3         Arkansas   57  -53\n",
       "4       California -297   13\n",
       "5         Colorado -112   20\n",
       "6      Connecticut  297   96\n",
       "7         Delaware  275   42\n",
       "8          Florida  220 -145\n",
       "9          Georgia  182  -75\n",
       "10          Hawaii -317 -143\n",
       "11           Idaho -216  122\n",
       "12        Illinois   95   37\n",
       "13         Indiana  133   39\n",
       "14            Iowa   38   65\n",
       "15          Kansas  -17    5\n",
       "16        Kentucky  149    1\n",
       "17       Louisiana   59 -114\n",
       "18           Maine  319  164\n",
       "19        Maryland  288   27\n",
       "20   Massachusetts  312  112\n",
       "21        Michigan  148  101\n",
       "22       Minnesota   23  135\n",
       "23     Mississippi   94  -78\n",
       "24        Missouri   49    6\n",
       "25         Montana -141  150\n",
       "26        Nebraska  -61   66\n",
       "27          Nevada -257   56\n",
       "28   New Hampshire  302  127\n",
       "29      New Jersey  282   65\n",
       "30      New Mexico -128  -43\n",
       "31        New York  236  104\n",
       "32  North Carolina  239  -22\n",
       "33    North Dakota  -44  158\n",
       "34            Ohio  176   52\n",
       "35        Oklahoma   -8  -41\n",
       "36          Oregon -278  138\n",
       "37    Pennsylvania  238   72\n",
       "38    Rhode Island  318   94\n",
       "39  South Carolina  218  -51\n",
       "40    South Dakota  -44  109\n",
       "41       Tennessee  131  -34\n",
       "42           Texas  -38 -106\n",
       "43            Utah -189   34\n",
       "44         Vermont  282  154\n",
       "45        Virginia  234   12\n",
       "46      Washington -257  193\n",
       "47   West Virginia  200   20\n",
       "48       Wisconsin   83  113\n",
       "49         Wyoming -134   90"
      ],
      "text/html": "<div>\n<style scoped>\n    .dataframe tbody tr th:only-of-type {\n        vertical-align: middle;\n    }\n\n    .dataframe tbody tr th {\n        vertical-align: top;\n    }\n\n    .dataframe thead th {\n        text-align: right;\n    }\n</style>\n<table border=\"1\" class=\"dataframe\">\n  <thead>\n    <tr style=\"text-align: right;\">\n      <th></th>\n      <th>state</th>\n      <th>x</th>\n      <th>y</th>\n    </tr>\n  </thead>\n  <tbody>\n    <tr>\n      <th>0</th>\n      <td>Alabama</td>\n      <td>139</td>\n      <td>-77</td>\n    </tr>\n    <tr>\n      <th>1</th>\n      <td>Alaska</td>\n      <td>-204</td>\n      <td>-170</td>\n    </tr>\n    <tr>\n      <th>2</th>\n      <td>Arizona</td>\n      <td>-203</td>\n      <td>-40</td>\n    </tr>\n    <tr>\n      <th>3</th>\n      <td>Arkansas</td>\n      <td>57</td>\n      <td>-53</td>\n    </tr>\n    <tr>\n      <th>4</th>\n      <td>California</td>\n      <td>-297</td>\n      <td>13</td>\n    </tr>\n    <tr>\n      <th>5</th>\n      <td>Colorado</td>\n      <td>-112</td>\n      <td>20</td>\n    </tr>\n    <tr>\n      <th>6</th>\n      <td>Connecticut</td>\n      <td>297</td>\n      <td>96</td>\n    </tr>\n    <tr>\n      <th>7</th>\n      <td>Delaware</td>\n      <td>275</td>\n      <td>42</td>\n    </tr>\n    <tr>\n      <th>8</th>\n      <td>Florida</td>\n      <td>220</td>\n      <td>-145</td>\n    </tr>\n    <tr>\n      <th>9</th>\n      <td>Georgia</td>\n      <td>182</td>\n      <td>-75</td>\n    </tr>\n    <tr>\n      <th>10</th>\n      <td>Hawaii</td>\n      <td>-317</td>\n      <td>-143</td>\n    </tr>\n    <tr>\n      <th>11</th>\n      <td>Idaho</td>\n      <td>-216</td>\n      <td>122</td>\n    </tr>\n    <tr>\n      <th>12</th>\n      <td>Illinois</td>\n      <td>95</td>\n      <td>37</td>\n    </tr>\n    <tr>\n      <th>13</th>\n      <td>Indiana</td>\n      <td>133</td>\n      <td>39</td>\n    </tr>\n    <tr>\n      <th>14</th>\n      <td>Iowa</td>\n      <td>38</td>\n      <td>65</td>\n    </tr>\n    <tr>\n      <th>15</th>\n      <td>Kansas</td>\n      <td>-17</td>\n      <td>5</td>\n    </tr>\n    <tr>\n      <th>16</th>\n      <td>Kentucky</td>\n      <td>149</td>\n      <td>1</td>\n    </tr>\n    <tr>\n      <th>17</th>\n      <td>Louisiana</td>\n      <td>59</td>\n      <td>-114</td>\n    </tr>\n    <tr>\n      <th>18</th>\n      <td>Maine</td>\n      <td>319</td>\n      <td>164</td>\n    </tr>\n    <tr>\n      <th>19</th>\n      <td>Maryland</td>\n      <td>288</td>\n      <td>27</td>\n    </tr>\n    <tr>\n      <th>20</th>\n      <td>Massachusetts</td>\n      <td>312</td>\n      <td>112</td>\n    </tr>\n    <tr>\n      <th>21</th>\n      <td>Michigan</td>\n      <td>148</td>\n      <td>101</td>\n    </tr>\n    <tr>\n      <th>22</th>\n      <td>Minnesota</td>\n      <td>23</td>\n      <td>135</td>\n    </tr>\n    <tr>\n      <th>23</th>\n      <td>Mississippi</td>\n      <td>94</td>\n      <td>-78</td>\n    </tr>\n    <tr>\n      <th>24</th>\n      <td>Missouri</td>\n      <td>49</td>\n      <td>6</td>\n    </tr>\n    <tr>\n      <th>25</th>\n      <td>Montana</td>\n      <td>-141</td>\n      <td>150</td>\n    </tr>\n    <tr>\n      <th>26</th>\n      <td>Nebraska</td>\n      <td>-61</td>\n      <td>66</td>\n    </tr>\n    <tr>\n      <th>27</th>\n      <td>Nevada</td>\n      <td>-257</td>\n      <td>56</td>\n    </tr>\n    <tr>\n      <th>28</th>\n      <td>New Hampshire</td>\n      <td>302</td>\n      <td>127</td>\n    </tr>\n    <tr>\n      <th>29</th>\n      <td>New Jersey</td>\n      <td>282</td>\n      <td>65</td>\n    </tr>\n    <tr>\n      <th>30</th>\n      <td>New Mexico</td>\n      <td>-128</td>\n      <td>-43</td>\n    </tr>\n    <tr>\n      <th>31</th>\n      <td>New York</td>\n      <td>236</td>\n      <td>104</td>\n    </tr>\n    <tr>\n      <th>32</th>\n      <td>North Carolina</td>\n      <td>239</td>\n      <td>-22</td>\n    </tr>\n    <tr>\n      <th>33</th>\n      <td>North Dakota</td>\n      <td>-44</td>\n      <td>158</td>\n    </tr>\n    <tr>\n      <th>34</th>\n      <td>Ohio</td>\n      <td>176</td>\n      <td>52</td>\n    </tr>\n    <tr>\n      <th>35</th>\n      <td>Oklahoma</td>\n      <td>-8</td>\n      <td>-41</td>\n    </tr>\n    <tr>\n      <th>36</th>\n      <td>Oregon</td>\n      <td>-278</td>\n      <td>138</td>\n    </tr>\n    <tr>\n      <th>37</th>\n      <td>Pennsylvania</td>\n      <td>238</td>\n      <td>72</td>\n    </tr>\n    <tr>\n      <th>38</th>\n      <td>Rhode Island</td>\n      <td>318</td>\n      <td>94</td>\n    </tr>\n    <tr>\n      <th>39</th>\n      <td>South Carolina</td>\n      <td>218</td>\n      <td>-51</td>\n    </tr>\n    <tr>\n      <th>40</th>\n      <td>South Dakota</td>\n      <td>-44</td>\n      <td>109</td>\n    </tr>\n    <tr>\n      <th>41</th>\n      <td>Tennessee</td>\n      <td>131</td>\n      <td>-34</td>\n    </tr>\n    <tr>\n      <th>42</th>\n      <td>Texas</td>\n      <td>-38</td>\n      <td>-106</td>\n    </tr>\n    <tr>\n      <th>43</th>\n      <td>Utah</td>\n      <td>-189</td>\n      <td>34</td>\n    </tr>\n    <tr>\n      <th>44</th>\n      <td>Vermont</td>\n      <td>282</td>\n      <td>154</td>\n    </tr>\n    <tr>\n      <th>45</th>\n      <td>Virginia</td>\n      <td>234</td>\n      <td>12</td>\n    </tr>\n    <tr>\n      <th>46</th>\n      <td>Washington</td>\n      <td>-257</td>\n      <td>193</td>\n    </tr>\n    <tr>\n      <th>47</th>\n      <td>West Virginia</td>\n      <td>200</td>\n      <td>20</td>\n    </tr>\n    <tr>\n      <th>48</th>\n      <td>Wisconsin</td>\n      <td>83</td>\n      <td>113</td>\n    </tr>\n    <tr>\n      <th>49</th>\n      <td>Wyoming</td>\n      <td>-134</td>\n      <td>90</td>\n    </tr>\n  </tbody>\n</table>\n</div>"
     },
     "metadata": {},
     "execution_count": 36
    }
   ],
   "source": [
    "import pandas as pd\n",
    "\n",
    "data = pd.read_csv('50_states.csv', index_col=False)\n",
    "answer = input('estado: ')\n",
    "\n",
    "state = data[data['state'] == answer.capitalize()]\n",
    "x = int(state['x'])\n",
    "y = int(state['y'])"
   ]
  },
  {
   "cell_type": "code",
   "execution_count": null,
   "metadata": {},
   "outputs": [],
   "source": []
  }
 ]
}