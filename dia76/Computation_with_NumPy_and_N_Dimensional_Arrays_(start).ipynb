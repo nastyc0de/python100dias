{
  "nbformat": 4,
  "nbformat_minor": 2,
  "metadata": {
    "colab": {
      "name": "Computation with NumPy and N-Dimensional Arrays (start).ipynb",
      "provenance": [],
      "toc_visible": true
    },
    "kernelspec": {
      "name": "python3",
      "display_name": "Python 3.9.5 64-bit"
    },
    "language_info": {
      "name": "python",
      "version": "3.9.5",
      "mimetype": "text/x-python",
      "codemirror_mode": {
        "name": "ipython",
        "version": 3
      },
      "pygments_lexer": "ipython3",
      "nbconvert_exporter": "python",
      "file_extension": ".py"
    },
    "interpreter": {
      "hash": "9330ed78894e3435a2e4ffed6de6ed9ef79027b66413815be6fe611370d7b2c0"
    }
  },
  "cells": [
    {
      "cell_type": "markdown",
      "source": [
        "# Introduction\n",
        "\n",
        "In this notebook we'll learn how to use NumPy to work with numerical data. \n",
        "\n",
        "<img src=\"https://i.imgur.com/dZ1XE9o.png\" width=400>"
      ],
      "metadata": {
        "id": "t72p7Wvp8fKU"
      }
    },
    {
      "cell_type": "markdown",
      "source": [
        "# Import Statements"
      ],
      "metadata": {
        "id": "3j24xcmN8s1a"
      }
    },
    {
      "cell_type": "code",
      "execution_count": 1,
      "source": [
        "import numpy as np\r\n",
        "\r\n",
        "import matplotlib.pyplot as plt\r\n",
        "from scipy import misc # contains an image of a racoon!\r\n",
        "from PIL import Image # for reading image files"
      ],
      "outputs": [],
      "metadata": {
        "id": "b9YJCGC_8mhB"
      }
    },
    {
      "cell_type": "markdown",
      "source": [
        "# Understanding NumPy's ndarray\n",
        "\n",
        "NumPy's most amazing feature is the **powerful** ndarray.\n",
        "\n",
        "<img src=\"https://i.imgur.com/1IUqnxX.png\" width=200>"
      ],
      "metadata": {
        "id": "8vsW1z6o9RWD"
      }
    },
    {
      "cell_type": "markdown",
      "source": [
        "#### 1-Dimensional Arrays (Vectors)"
      ],
      "metadata": {
        "id": "d5g_jUKBAILK"
      }
    },
    {
      "cell_type": "code",
      "execution_count": 2,
      "source": [
        "array = np.array([1.2, 4.3, 5.2, 9.3])"
      ],
      "outputs": [],
      "metadata": {
        "id": "ITaA6vmejMNF"
      }
    },
    {
      "cell_type": "code",
      "execution_count": 3,
      "source": [
        "array.shape"
      ],
      "outputs": [
        {
          "output_type": "execute_result",
          "data": {
            "text/plain": [
              "(4,)"
            ]
          },
          "metadata": {},
          "execution_count": 3
        }
      ],
      "metadata": {}
    },
    {
      "cell_type": "code",
      "execution_count": 4,
      "source": [
        "array[2]"
      ],
      "outputs": [
        {
          "output_type": "execute_result",
          "data": {
            "text/plain": [
              "5.2"
            ]
          },
          "metadata": {},
          "execution_count": 4
        }
      ],
      "metadata": {}
    },
    {
      "cell_type": "code",
      "execution_count": 5,
      "source": [
        "array.ndim"
      ],
      "outputs": [
        {
          "output_type": "execute_result",
          "data": {
            "text/plain": [
              "1"
            ]
          },
          "metadata": {},
          "execution_count": 5
        }
      ],
      "metadata": {}
    },
    {
      "cell_type": "markdown",
      "source": [
        "#### 2-Dimensional Arrays (Matrices)"
      ],
      "metadata": {
        "id": "nZ8D4yr8ALzn"
      }
    },
    {
      "cell_type": "code",
      "execution_count": 6,
      "source": [
        "array_2d = np.array([[1, 2, 3, 9], \r\n",
        "                     [5, 6, 7, 8]])"
      ],
      "outputs": [],
      "metadata": {
        "id": "97iTilPTAGpm"
      }
    },
    {
      "cell_type": "code",
      "execution_count": 23,
      "source": [
        "print(f'array_2d has {array_2d.ndim} dimensions')\r\n",
        "print(f'the shape is: {array_2d.shape[0]} rows and {array_2d.shape[1]} columns')\r\n",
        "print(f'the array is a {array_2d.shape}')\r\n",
        "print(f'The value is: {array_2d[0][2]}')\r\n",
        "print(f'The row is: {array_2d[1]}')\r\n",
        "print(f'The first segment is {array_2d[1][1:3]}, the second segment is {array_2d[0][2:]}')"
      ],
      "outputs": [
        {
          "output_type": "stream",
          "name": "stdout",
          "text": [
            "array_2d has 2 dimensions\n",
            "the shape is: 2 rows and 4 columns\n",
            "the array is a (2, 4)\n",
            "The value is: 3\n",
            "The row is: [5 6 7 8]\n",
            "The first segment is [6 7], the second segment is [3 9]\n"
          ]
        }
      ],
      "metadata": {}
    },
    {
      "cell_type": "markdown",
      "source": [
        "#### N-Dimensional Arrays (Tensors)\n",
        "\n",
        "**Challenge**: \n",
        "* How many dimensions does the array below have? \n",
        "* What is its shape (i.e., how many elements are along each axis)?\n",
        "* Try to access the value `18` in the last line of code.\n",
        "* Try to retrieve a 1 dimensional vector with the values `[97, 0, 27, 18]`\n",
        "* Try to retrieve a (3,2) matrix with the values `[[ 0,  4], [ 7,  5], [ 5, 97]]`\n",
        "\n",
        "*Hint*: You can use the `:` operator just as with Python Lists."
      ],
      "metadata": {
        "id": "IxEF8DdRBHn5"
      }
    },
    {
      "cell_type": "code",
      "execution_count": 27,
      "source": [
        "mystery_array = np.array([[[0, 1, 2, 3],\r\n",
        "                           [4, 5, 6, 7]],\r\n",
        "                        \r\n",
        "                         [[7, 86, 6, 98],\r\n",
        "                          [5, 1, 0, 4]],\r\n",
        "                          \r\n",
        "                          [[5, 36, 32, 48],\r\n",
        "                           [97, 0, 27, 18]]])\r\n",
        "\r\n",
        "# Note all the square brackets!"
      ],
      "outputs": [],
      "metadata": {
        "id": "2ROMzYaxAgXC"
      }
    },
    {
      "cell_type": "code",
      "execution_count": 34,
      "source": [
        "print(f'the dimension: {mystery_array.ndim}')\r\n",
        "print(f'The shape is: {mystery_array.shape}')\r\n",
        "print(f'The value is: {mystery_array[2][1][3]}')\r\n",
        "print(f'The array is: {mystery_array[2][1]}')\r\n",
        "print(f'The matrix is: {mystery_array[:][:][0]}')"
      ],
      "outputs": [
        {
          "output_type": "stream",
          "name": "stdout",
          "text": [
            "the dimension: 3\n",
            "The shape is: (3, 2, 4)\n",
            "The value is: 18\n",
            "The array is: [97  0 27 18]\n",
            "The matrix is: [[0 1 2 3]\n",
            " [4 5 6 7]]\n"
          ]
        }
      ],
      "metadata": {
        "id": "s3-I3tYSjC1R"
      }
    },
    {
      "cell_type": "code",
      "execution_count": 3,
      "source": [],
      "outputs": [],
      "metadata": {
        "id": "AvUs5gRPjDIT"
      }
    },
    {
      "cell_type": "code",
      "execution_count": 3,
      "source": [],
      "outputs": [],
      "metadata": {
        "id": "G3Ek8nDTjCvn"
      }
    },
    {
      "cell_type": "code",
      "execution_count": 3,
      "source": [],
      "outputs": [],
      "metadata": {
        "id": "1SeRB6MejAbc"
      }
    },
    {
      "cell_type": "markdown",
      "source": [
        "# NumPy Mini-Challenges"
      ],
      "metadata": {
        "id": "xTclC9QMWaL3"
      }
    },
    {
      "cell_type": "markdown",
      "source": [
        "#### **Challenge 1**: Use [`.arange()`](https://numpy.org/devdocs/reference/generated/numpy.arange.html)to createa a vector `a` with values ranging from 10 to 29. You should get this:\n",
        "\n",
        "`print(a)`\n",
        "\n",
        "`[10 11 12 13 14 15 16 17 18 19 20 21 22 23 24 25 26 27 28 29]`"
      ],
      "metadata": {
        "id": "D5jAqudtWeTN"
      }
    },
    {
      "cell_type": "code",
      "execution_count": 3,
      "source": [],
      "outputs": [],
      "metadata": {
        "id": "1bxtrVjJi83g"
      }
    },
    {
      "cell_type": "markdown",
      "source": [
        "#### **Challenge 2**: Use Python slicing techniques on `a` to:\n",
        "* Create an array containing only the last 3 values of `a`\n",
        "* Create a subset with only the 4th, 5th, and 6th values\n",
        "* Create a subset of `a` containing all the values except for the first 12 (i.e., `[22, 23, 24, 25, 26, 27, 28, 29]`)\n",
        "* Create a subset that only contains the even numbers (i.e, every second number)"
      ],
      "metadata": {
        "id": "duI_CwC5XmF_"
      }
    },
    {
      "cell_type": "code",
      "execution_count": 3,
      "source": [],
      "outputs": [],
      "metadata": {
        "id": "oR2l2HMGi6mS"
      }
    },
    {
      "cell_type": "markdown",
      "source": [
        "#### **Challenge 3**:Reverse the order of the values in `a`, so that the first element comes last:\n",
        "\n",
        "`[29, 28, 27, 26, 25, 24, 23, 22, 21, 20, 19, 18, 17, 16, 15, 14, 13,\n",
        "       12, 11, 10]`\n",
        "\n",
        "\n",
        "If you need a hint, you can check out this part of the [NumPy beginner's guide](\n",
        "https://numpy.org/devdocs/user/absolute_beginners.html#how-to-reverse-an-array)"
      ],
      "metadata": {
        "id": "G7UMQZjiYBjS"
      }
    },
    {
      "cell_type": "code",
      "execution_count": 3,
      "source": [],
      "outputs": [],
      "metadata": {
        "id": "nGmDLPK6i4Nk"
      }
    },
    {
      "cell_type": "markdown",
      "source": [
        "#### **Challenge 4**: Print out all the indices of the non-zero elements in this array: [6,0,9,0,0,5,0]"
      ],
      "metadata": {
        "id": "WBJJbWjKfULr"
      }
    },
    {
      "cell_type": "code",
      "execution_count": 3,
      "source": [],
      "outputs": [],
      "metadata": {
        "id": "0J0gmKqsi25-"
      }
    },
    {
      "cell_type": "markdown",
      "source": [
        "#### **Challenge 5**: Use NumPy to generate a 3x3x3 array with random numbers\n",
        "\n",
        "Hint: Use the [`.random()` function](https://numpy.org/doc/stable/reference/random/index.html?highlight=random#module-numpy.random)"
      ],
      "metadata": {
        "id": "LxorfXnOffUw"
      }
    },
    {
      "cell_type": "code",
      "execution_count": 3,
      "source": [],
      "outputs": [],
      "metadata": {
        "id": "2gIg5UsYi1CC"
      }
    },
    {
      "cell_type": "markdown",
      "source": [
        "#### **Challenge 6**: Use [`.linspace()`](https://numpy.org/doc/stable/reference/generated/numpy.linspace.html) to create a vector `x` of size 9 with values spaced out evenly between 0 to 100 (both included)."
      ],
      "metadata": {
        "id": "ps1d14z7ovv1"
      }
    },
    {
      "cell_type": "code",
      "execution_count": 3,
      "source": [],
      "outputs": [],
      "metadata": {
        "id": "SB2lUDTBizzk"
      }
    },
    {
      "cell_type": "markdown",
      "source": [
        "#### **Challenge 7**: Use [`.linspace()`](https://numpy.org/doc/stable/reference/generated/numpy.linspace.html) to create another vector `y` of size 9 with values between -3 to 3 (both included). Then plot `x` and `y` on a line chart using Matplotlib."
      ],
      "metadata": {
        "id": "GCSPVde3f0kE"
      }
    },
    {
      "cell_type": "code",
      "execution_count": 3,
      "source": [],
      "outputs": [],
      "metadata": {
        "id": "cIu8HlJFiyF9"
      }
    },
    {
      "cell_type": "markdown",
      "source": [
        "#### **Challenge 8**: Use NumPy to generate an array called `noise` with shape 128x128x3 that has random values. Then use Matplotlib's [`.imshow()`](https://matplotlib.org/3.1.1/api/_as_gen/matplotlib.pyplot.imshow.html) to display the array as an image. "
      ],
      "metadata": {
        "id": "Wt5aIGQLlz5i"
      }
    },
    {
      "cell_type": "code",
      "execution_count": 3,
      "source": [],
      "outputs": [],
      "metadata": {
        "id": "_LSYx_fliwrw"
      }
    },
    {
      "cell_type": "markdown",
      "source": [
        "# Linear Algebra with Vectors"
      ],
      "metadata": {
        "id": "-O2acBSNX4o8"
      }
    },
    {
      "cell_type": "code",
      "execution_count": 4,
      "source": [
        "v1 = np.array([4, 5, 2, 7])\n",
        "v2 = np.array([2, 1, 3, 3])"
      ],
      "outputs": [],
      "metadata": {
        "id": "GbSwkEwHX9lb"
      }
    },
    {
      "cell_type": "code",
      "execution_count": 5,
      "source": [
        "# Python Lists vs ndarrays\n",
        "list1 = [4, 5, 2, 7]\n",
        "list2 = [2, 1, 3, 3]"
      ],
      "outputs": [],
      "metadata": {
        "id": "vPa5kK-6fz1v"
      }
    },
    {
      "cell_type": "code",
      "execution_count": 5,
      "source": [],
      "outputs": [],
      "metadata": {
        "id": "DfPCOJqBiugK"
      }
    },
    {
      "cell_type": "code",
      "execution_count": 5,
      "source": [],
      "outputs": [],
      "metadata": {
        "id": "AYNctOyniucr"
      }
    },
    {
      "cell_type": "markdown",
      "source": [
        "# Broadcasting and Scalars\n"
      ],
      "metadata": {
        "id": "5lOo-ucJUhGx"
      }
    },
    {
      "cell_type": "code",
      "execution_count": 5,
      "source": [],
      "outputs": [],
      "metadata": {
        "id": "E_ooq80ziprz"
      }
    },
    {
      "cell_type": "code",
      "execution_count": 5,
      "source": [],
      "outputs": [],
      "metadata": {
        "id": "gya2xlxxipoi"
      }
    },
    {
      "cell_type": "code",
      "execution_count": 5,
      "source": [],
      "outputs": [],
      "metadata": {
        "id": "Lhmedp3Qil5I"
      }
    },
    {
      "cell_type": "markdown",
      "source": [
        "# Matrix Multiplication with @ and .matmul()\n",
        "\n",
        "<img src=https://i.imgur.com/LCdhmi8.png width=350>"
      ],
      "metadata": {
        "id": "hVQLR4KamAFi"
      }
    },
    {
      "cell_type": "code",
      "execution_count": 6,
      "source": [
        "a1 = np.array([[1, 3],\n",
        "               [0, 1],\n",
        "               [6, 2],\n",
        "               [9, 7]])\n",
        "\n",
        "b1 = np.array([[4, 1, 3],\n",
        "               [5, 8, 5]])\n",
        "\n",
        "print(f'{a1.shape}: a has {a1.shape[0]} rows and {a1.shape[1]} columns.')\n",
        "print(f'{b1.shape}: b has {b1.shape[0]} rows and {b1.shape[1]} columns.')\n",
        "print('Dimensions of result: (4x2)*(2x3)=(4x3)')"
      ],
      "outputs": [
        {
          "output_type": "stream",
          "name": "stdout",
          "text": [
            "(4, 2): a has 4 rows and 2 columns.\n",
            "(2, 3): b has 2 rows and 3 columns.\n",
            "Dimensions of result: (4x2)*(2x3)=(4x3)\n"
          ]
        }
      ],
      "metadata": {
        "id": "8oeSWT7fk7u5",
        "outputId": "dff8c9eb-23ba-41d6-c9e6-c62158c9f178",
        "colab": {
          "base_uri": "https://localhost:8080/",
          "height": 68
        }
      }
    },
    {
      "cell_type": "markdown",
      "source": [
        "**Challenge**: Let's multiply `a1` with `b1`. Looking at the wikipedia example above, work out the values for c12 and c33 on paper. Then use the [`.matmul()`](https://numpy.org/doc/stable/reference/generated/numpy.matmul.html) function or the `@` operator to check your work. "
      ],
      "metadata": {
        "id": "LP2b396-n9wS"
      }
    },
    {
      "cell_type": "code",
      "execution_count": 6,
      "source": [],
      "outputs": [],
      "metadata": {
        "id": "a68V7SFpieg2"
      }
    },
    {
      "cell_type": "code",
      "execution_count": 6,
      "source": [],
      "outputs": [],
      "metadata": {
        "id": "JvORXjfJiebH"
      }
    },
    {
      "cell_type": "markdown",
      "source": [
        "# Manipulating Images as ndarrays\n"
      ],
      "metadata": {
        "id": "n8uiDqlb2pTO"
      }
    },
    {
      "cell_type": "code",
      "execution_count": 6,
      "source": [],
      "outputs": [],
      "metadata": {
        "id": "P1TS4QSqicaB"
      }
    },
    {
      "cell_type": "code",
      "execution_count": 6,
      "source": [],
      "outputs": [],
      "metadata": {
        "id": "K-jub5UDicVw"
      }
    },
    {
      "cell_type": "markdown",
      "source": [
        "**Challenge**: What is the data type of `img`? Also, what is the shape of `img` and how many dimensions does it have? What is the resolution of the image?"
      ],
      "metadata": {
        "id": "zCyCD3ia4J8A"
      }
    },
    {
      "cell_type": "code",
      "execution_count": 6,
      "source": [],
      "outputs": [],
      "metadata": {
        "id": "ElXYL8OZiZIu"
      }
    },
    {
      "cell_type": "code",
      "execution_count": 6,
      "source": [],
      "outputs": [],
      "metadata": {
        "id": "xD7fwq2ViZWC"
      }
    },
    {
      "cell_type": "code",
      "execution_count": 6,
      "source": [],
      "outputs": [],
      "metadata": {
        "id": "RvaHBCj8iZBp"
      }
    },
    {
      "cell_type": "markdown",
      "source": [
        "**Challenge**: Convert the image to black and white. The values in our `img` range from 0 to 255. \n",
        "* Divide all the values by 255 to convert them to sRGB, where all the values are between 0 and 1. \n",
        "* Next, multiply the sRGB array by the `grey_vals` to convert the image to grey scale. \n",
        "* Finally use Matplotlib's [`.imshow()`](https://matplotlib.org/3.1.1/api/_as_gen/matplotlib.pyplot.imshow.html) together with the colormap parameter set to gray `cmap=gray` to look at the results. "
      ],
      "metadata": {
        "id": "niXLlWOQ4Z8K"
      }
    },
    {
      "cell_type": "code",
      "execution_count": 7,
      "source": [
        "grey_vals = np.array([0.2126, 0.7152, 0.0722])"
      ],
      "outputs": [],
      "metadata": {
        "id": "bkrNo4jI6e95"
      }
    },
    {
      "cell_type": "code",
      "execution_count": 7,
      "source": [],
      "outputs": [],
      "metadata": {
        "id": "xxsdG1eAiV_X"
      }
    },
    {
      "cell_type": "code",
      "execution_count": 7,
      "source": [],
      "outputs": [],
      "metadata": {
        "id": "zaRdnvu3iVpt"
      }
    },
    {
      "cell_type": "markdown",
      "source": [
        "**Challenge**: Can you manipulate the images by doing some operations on the underlying ndarrays? See if you can change the values in the ndarray so that:\n",
        "\n",
        "1) You flip the grayscale image upside down\n",
        "\n",
        "<img src=https://i.imgur.com/r36CigD.png>\n",
        "\n",
        "2) Rotate the colour image\n",
        "\n",
        "<img src=https://i.imgur.com/IiNylco.png>\n",
        "\n",
        "3) Invert (i.e., solarize) the colour image. To do this you need to converting all the pixels to their \"opposite\" value, so black (0) becomes white (255).\n",
        "\n",
        "<img src=https://i.imgur.com/cfFbuex.png>"
      ],
      "metadata": {
        "id": "Gc32f7V77Myv"
      }
    },
    {
      "cell_type": "markdown",
      "source": [
        "#### Challenge Solutions"
      ],
      "metadata": {
        "id": "O3B8TLSEXZtD"
      }
    },
    {
      "cell_type": "code",
      "execution_count": 7,
      "source": [],
      "outputs": [],
      "metadata": {
        "id": "vW0Aug3MiRgH"
      }
    },
    {
      "cell_type": "code",
      "execution_count": null,
      "source": [],
      "outputs": [],
      "metadata": {
        "id": "_caHTOZ3jcRA"
      }
    },
    {
      "cell_type": "markdown",
      "source": [
        "# Use your Own Image!"
      ],
      "metadata": {
        "id": "4ymZ21DKbK9Q"
      }
    },
    {
      "cell_type": "code",
      "execution_count": 8,
      "source": [
        "file_name = 'yummy_macarons.jpg'"
      ],
      "outputs": [],
      "metadata": {
        "id": "CXZMwrxuV1q0"
      }
    },
    {
      "cell_type": "code",
      "execution_count": null,
      "source": [],
      "outputs": [],
      "metadata": {
        "id": "kHkGg_T8jbdD"
      }
    },
    {
      "cell_type": "markdown",
      "source": [
        "#### Use PIL to open "
      ],
      "metadata": {
        "id": "hqoigjThfYJM"
      }
    },
    {
      "cell_type": "code",
      "execution_count": 8,
      "source": [],
      "outputs": [],
      "metadata": {
        "id": "_1rCJzYQebOn"
      }
    },
    {
      "cell_type": "code",
      "execution_count": null,
      "source": [],
      "outputs": [],
      "metadata": {
        "id": "30i9Xlu_jb0i"
      }
    }
  ]
}